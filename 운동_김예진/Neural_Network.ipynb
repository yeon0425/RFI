{
  "nbformat": 4,
  "nbformat_minor": 0,
  "metadata": {
    "colab": {
      "provenance": []
    },
    "kernelspec": {
      "name": "python3",
      "display_name": "Python 3"
    },
    "language_info": {
      "name": "python"
    }
  },
  "cells": [
    {
      "cell_type": "markdown",
      "source": [
        "### 사용자 헬스 프로필 데이터셋에 기반한 운동 종류 및 운동 시간 추천 시스템."
      ],
      "metadata": {
        "id": "UHVAq82jsLwU"
      }
    },
    {
      "cell_type": "code",
      "execution_count": 4,
      "metadata": {
        "id": "7l2sKeTrmmaw"
      },
      "outputs": [],
      "source": [
        "import numpy\n",
        "import scipy.special\n",
        "\n",
        "class ExerciseNeuralNetwork:\n",
        "    def __init__(self, input_nodes, hidden_nodes, output_nodes, learning_rate):\n",
        "        self.inodes = input_nodes\n",
        "        self.hnodes = hidden_nodes\n",
        "        self.onodes = output_nodes\n",
        "\n",
        "        self.wih = numpy.random.normal(0.0, pow(self.inodes, -0.5), (self.hnodes, self.inodes))\n",
        "        self.who = numpy.random.normal(0.0, pow(self.hnodes, -0.5), (self.onodes, self.hnodes))\n",
        "\n",
        "        self.lr = learning_rate\n",
        "        self.activation_function = lambda x: scipy.special.expit(x)\n",
        "\n",
        "    def train(self, inputs_list, targets_list):\n",
        "        inputs = numpy.array(inputs_list, ndmin=2).T\n",
        "        targets = numpy.array(targets_list, ndmin=2).T\n",
        "\n",
        "        hidden_inputs = numpy.dot(self.wih, inputs)\n",
        "        hidden_outputs = self.activation_function(hidden_inputs)\n",
        "\n",
        "        final_inputs = numpy.dot(self.who, hidden_outputs)\n",
        "        final_outputs = self.activation_function(final_inputs)\n",
        "\n",
        "        output_errors = targets - final_outputs\n",
        "        hidden_errors = numpy.dot(self.who.T, output_errors)\n",
        "\n",
        "        self.who += self.lr * numpy.dot((output_errors*final_outputs*(1.0-final_outputs)), numpy.transpose(hidden_outputs))\n",
        "        self.wih += self.lr * numpy.dot((hidden_errors*hidden_outputs*(1.0-hidden_outputs)), numpy.transpose(inputs))\n",
        "\n",
        "        return final_outputs\n",
        "\n",
        "    def query(self, inputs_list):\n",
        "        inputs = numpy.array(inputs_list, ndmin=2).T\n",
        "\n",
        "        hidden_inputs = numpy.dot(self.wih, inputs)\n",
        "        hidden_outputs = self.activation_function(hidden_inputs)\n",
        "\n",
        "        final_inputs = numpy.dot(self.who, hidden_outputs)\n",
        "        final_outputs = self.activation_function(final_inputs)\n",
        "\n",
        "        return final_outputs"
      ]
    },
    {
      "cell_type": "code",
      "source": [
        "# Create an instance of ExerciseNeuralNetwork\n",
        "input_nodes = 5\n",
        "hidden_nodes = 10\n",
        "output_nodes = 2\n",
        "learning_rate = 0.1\n",
        "exercise_nn = ExerciseNeuralNetwork(input_nodes, hidden_nodes, output_nodes, learning_rate)"
      ],
      "metadata": {
        "id": "pxXp6tmeXaWo"
      },
      "execution_count": 5,
      "outputs": []
    },
    {
      "cell_type": "markdown",
      "source": [
        "### **`input`** : [수면 시간, 식사량, 운동여부, 걷기 운동량, 요가 운동량]\n",
        "- walking(걷기) 또는 gymnastics(체조)와 같은 운동을 하는 사람의 건강 데이터\n",
        "- 데이터 다양화 및 data를 csv 파일로 받아올 방법 필요"
      ],
      "metadata": {
        "id": "JKXIhB9ls4me"
      }
    },
    {
      "cell_type": "code",
      "source": [
        "# Define the input and output data for training\n",
        "\n",
        "input_data = [[8, 3, 1, 0, 0.7], [7, 2, 0, 0, 0.2], [9, 4, 1, 1, 0.5], [6, 3, 0, 1, 0.9]] \n",
        "output_data = [[0.9, 0.1], [0.1, 0.9], [0.8, 0.2], [0.3, 0.7]] # [1, 0] for walking and [0, 1] for gymnastics"
      ],
      "metadata": {
        "id": "VJNsMgZssA4O"
      },
      "execution_count": 6,
      "outputs": []
    },
    {
      "cell_type": "code",
      "source": [
        "# Train the neural network\n",
        "for i in range(5000):\n",
        "    for j in range(len(input_data)):\n",
        "        inputs = input_data[j]\n",
        "        targets = output_data[j]\n",
        "        exercise_nn.train(inputs, targets)"
      ],
      "metadata": {
        "id": "uu6yxIIVXdso"
      },
      "execution_count": 7,
      "outputs": []
    },
    {
      "cell_type": "code",
      "source": [
        "# Test the neural network\n",
        "input_test = [8, 3, 1, 1, 0.8]\n",
        "predicted_output = exercise_nn.query(input_test)\n",
        "print(predicted_output) # This will print the predicted output, which will be close to either [1, 0] or [0, 1]"
      ],
      "metadata": {
        "id": "GBZ2UgrCXgA3",
        "colab": {
          "base_uri": "https://localhost:8080/"
        },
        "outputId": "c5a879ac-ed0d-4897-a769-3f710e9fddbc"
      },
      "execution_count": 8,
      "outputs": [
        {
          "output_type": "stream",
          "name": "stdout",
          "text": [
            "[[0.78254211]\n",
            " [0.21861919]]\n"
          ]
        }
      ]
    }
  ]
}